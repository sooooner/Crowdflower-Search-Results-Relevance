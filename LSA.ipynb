{
 "cells": [
  {
   "cell_type": "code",
   "execution_count": 1,
   "metadata": {},
   "outputs": [],
   "source": [
    "import time\n",
    "import datetime\n",
    "import numpy as np\n",
    "import scipy as sp\n",
    "import pandas as pd\n",
    "\n",
    "from itertools import product\n",
    "from nltk.corpus import stopwords\n",
    "from scipy.sparse import hstack\n",
    "\n",
    "from sklearn import decomposition, metrics\n",
    "from sklearn.svm import SVC, SVR\n",
    "from sklearn.metrics import classification_report, roc_curve, mean_squared_error, make_scorer\n",
    "from sklearn.pipeline import FeatureUnion\n",
    "from sklearn.multiclass import OneVsRestClassifier\n",
    "from sklearn.linear_model import LogisticRegression\n",
    "from sklearn.decomposition import TruncatedSVD\n",
    "from sklearn.preprocessing import StandardScaler\n",
    "from sklearn.model_selection import GridSearchCV, cross_val_score, train_test_split, KFold, StratifiedKFold\n",
    "from sklearn.feature_extraction import text\n",
    "\n",
    "from utility.processing import processer\n",
    "from utility.utility import *\n",
    "\n",
    "from imblearn.combine import *\n",
    "from imblearn.over_sampling import *\n",
    "from imblearn.under_sampling import * \n",
    "from imblearn.pipeline import Pipeline\n",
    "\n",
    "%matplotlib inline"
   ]
  },
  {
   "cell_type": "markdown",
   "metadata": {},
   "source": [
    "# LSA"
   ]
  },
  {
   "cell_type": "markdown",
   "metadata": {},
   "source": [
    "## 데이터 로드"
   ]
  },
  {
   "cell_type": "code",
   "execution_count": 2,
   "metadata": {},
   "outputs": [],
   "source": [
    "train = pd.read_csv('./data/preprocessed_train.csv')\n",
    "test = pd.read_csv('./data/preprocessed_test.csv')\n",
    "idx = test.id.values.astype(int)\n",
    "y = train.median_relevance.values"
   ]
  },
  {
   "cell_type": "code",
   "execution_count": 3,
   "metadata": {},
   "outputs": [],
   "source": [
    "train, dev, y, y_dev = train_test_split(train, y, stratify=y, test_size=0.1)"
   ]
  },
  {
   "cell_type": "code",
   "execution_count": 4,
   "metadata": {},
   "outputs": [],
   "source": [
    "train_query = list(train.apply(lambda x:'%s' % x['query_preprocessed'], axis=1))\n",
    "train_title = list(train.apply(lambda x:'%s' % x['product_title_preprocessed'], axis=1))\n",
    "\n",
    "dev_query = list(dev.apply(lambda x:'%s' % x['query_preprocessed'], axis=1))\n",
    "dev_title = list(dev.apply(lambda x:'%s' % x['product_title_preprocessed'], axis=1))\n",
    "\n",
    "test_query = list(test.apply(lambda x:'%s' % x['query_preprocessed'], axis=1))\n",
    "test_title = list(test.apply(lambda x:'%s' % x['product_title_preprocessed'], axis=1))"
   ]
  },
  {
   "cell_type": "markdown",
   "metadata": {},
   "source": [
    "## 모델링"
   ]
  },
  {
   "cell_type": "markdown",
   "metadata": {},
   "source": [
    "### TF-IDF"
   ]
  },
  {
   "cell_type": "code",
   "execution_count": 5,
   "metadata": {},
   "outputs": [],
   "source": [
    "# min_df=3 : 빈도수가 3번 이하인 단어 무시  \n",
    "# max_features=None : 단어 빈도수의 맥시멈 설정 x\n",
    "# strip_accents='unicode' : 모든 특수문자와 pattern을 정재할수 없으므로 unicode사용       \n",
    "# analyzer='word' : corpus가 문장 list로 이루어져있어 단어단위로 분석  \n",
    "# token_pattern=r'\\w{1,}' : analyzer == 'word'일 때 token_pattern을 기반으로 단어 인식   \n",
    "# ngram_range=(1, 3) : word window의 범위 1~3, 약 90% 쿼리가 word size 3이하로 이루어짐  \n",
    "# use_idf=True : idf사용   \n",
    "# smooth_idf=True : 분모가 0이 되는것을 방지  \n",
    "# sublinear_tf=True : 단어 스무딩, replace 1 + log(tf).   \n",
    "# stop_words : 불용어 제거  \n",
    "stop_words = text.ENGLISH_STOP_WORDS.union(['http','www','img','border','color','style','padding','table','font', '',\\\n",
    "                                            'thi','inch','ha','width','height','0','1','2','3','4','5','6','7','8','9'])\n",
    "stop_words = text.ENGLISH_STOP_WORDS.union(set(stopwords.words('english')))\n",
    "\n",
    "tfv = text.TfidfVectorizer(min_df=3, max_features=None, strip_accents='unicode', analyzer='word',token_pattern=r'\\w{1,}', \\\n",
    "                           ngram_range=(1, 3), use_idf=True, smooth_idf=True, sublinear_tf=True, \\\n",
    "                           stop_words=stop_words).fit(train_query + train_title)\n",
    "\n",
    "X_train = hstack([tfv.transform(train_query), tfv.transform(train_title)])\n",
    "X_dev = hstack([tfv.transform(dev_query), tfv.transform(dev_title)])\n",
    "X_test = hstack([tfv.transform(test_query), tfv.transform(test_title)])"
   ]
  },
  {
   "cell_type": "code",
   "execution_count": 6,
   "metadata": {},
   "outputs": [],
   "source": [
    "# 단어별 가중치 확인\n",
    "# idf_dict = dict(zip(tfv.get_feature_names(), tfv.idf_))"
   ]
  },
  {
   "cell_type": "markdown",
   "metadata": {},
   "source": [
    "### cos, jaccard similarlity"
   ]
  },
  {
   "cell_type": "code",
   "execution_count": 7,
   "metadata": {},
   "outputs": [],
   "source": [
    "# query, title 유사도 계산(cos, jaccard)\n",
    "sim = similarlity_stack()\n",
    "X_sim_train = sim.fit_transform(X_train, y)\n",
    "X_sim_dev = sim.transform(X_dev)\n",
    "X_sim_test = sim.transform(X_test)"
   ]
  },
  {
   "cell_type": "code",
   "execution_count": 8,
   "metadata": {
    "scrolled": true
   },
   "outputs": [
    {
     "name": "stdout",
     "output_type": "stream",
     "text": [
      "ratings 1 \n",
      "cos_sim mean : 0.134786\t jaccard_sim mean: 0.089424\n",
      "\n",
      "ratings 2 \n",
      "cos_sim mean : 0.226628\t jaccard_sim mean: 0.156125\n",
      "\n",
      "ratings 3 \n",
      "cos_sim mean : 0.281881\t jaccard_sim mean: 0.194499\n",
      "\n",
      "ratings 4 \n",
      "cos_sim mean : 0.358388\t jaccard_sim mean: 0.251528\n",
      "\n"
     ]
    }
   ],
   "source": [
    "for i in range(1, 5):\n",
    "    sims = X_sim_train.toarray()[np.where(y == i)].sum(axis=0)/len(np.where(y == i)[0])\n",
    "    print(\"ratings %d \\ncos_sim mean : %f\\t jaccard_sim mean: %f\\n\" % (i, sims[0], sims[1]))"
   ]
  },
  {
   "cell_type": "markdown",
   "metadata": {},
   "source": [
    "#### LogisticRegression"
   ]
  },
  {
   "cell_type": "code",
   "execution_count": 11,
   "metadata": {},
   "outputs": [
    {
     "name": "stdout",
     "output_type": "stream",
     "text": [
      "lr without sim kappa score 평균 : 0.50, 편차 : 0.02\n",
      "lr with sim kappa score 평균 : 0.57, 편차 : 0.03\n"
     ]
    }
   ],
   "source": [
    "lr = LogisticRegression(max_iter=500)\n",
    "\n",
    "X_train_sim = hstack([X_train, X_sim_train])\n",
    "X_dev_sim = hstack([X_dev, X_sim_dev])\n",
    "\n",
    "cv = StratifiedKFold(n_splits=5, shuffle=True)\n",
    "kappa_scores = cross_val_score(lr, X_train, y, \\\n",
    "                               scoring=make_scorer(metric.quadratic_weighted_kappa, greater_is_better = True), cv=cv)\n",
    "print(\"lr without sim kappa score 평균 : %0.2f, 편차 : %0.2f\" % (np.mean(kappa_scores), np.std(kappa_scores)))\n",
    "\n",
    "kappa_scores = cross_val_score(lr, X_train_sim, y, \\\n",
    "                               scoring=make_scorer(metric.quadratic_weighted_kappa, greater_is_better = True), cv=cv)\n",
    "print(\"lr with sim kappa score 평균 : %0.2f, 편차 : %0.2f\" % (np.mean(kappa_scores), np.std(kappa_scores)))"
   ]
  },
  {
   "cell_type": "markdown",
   "metadata": {},
   "source": [
    "### LSA"
   ]
  },
  {
   "cell_type": "code",
   "execution_count": 12,
   "metadata": {},
   "outputs": [],
   "source": [
    "# TruncatedSVD\n",
    "# 261개의 쿼리이므로 n_components = 250로 모델링 시작\n",
    "svd = TruncatedSVD(n_components = 250)\n",
    "X_svd_train = svd.fit_transform(X_train)\n",
    "X_svd_dev = svd.transform(X_dev)\n",
    "X_svd_test = svd.transform(X_test)"
   ]
  },
  {
   "cell_type": "code",
   "execution_count": 13,
   "metadata": {},
   "outputs": [
    {
     "ename": "ValueError",
     "evalue": "shapes (10316,) and (10272,) not aligned: 10316 (dim 0) != 10272 (dim 0)",
     "output_type": "error",
     "traceback": [
      "\u001b[1;31m---------------------------------------------------------------------------\u001b[0m",
      "\u001b[1;31mValueError\u001b[0m                                Traceback (most recent call last)",
      "\u001b[1;32m<ipython-input-13-2c889b697014>\u001b[0m in \u001b[0;36m<module>\u001b[1;34m\u001b[0m\n\u001b[0;32m      8\u001b[0m     \u001b[0mfront\u001b[0m \u001b[1;33m=\u001b[0m \u001b[0mrow\u001b[0m\u001b[1;33m[\u001b[0m\u001b[1;33m:\u001b[0m\u001b[0mhalf\u001b[0m\u001b[1;33m]\u001b[0m\u001b[1;33m\u001b[0m\u001b[1;33m\u001b[0m\u001b[0m\n\u001b[0;32m      9\u001b[0m     \u001b[0mend\u001b[0m \u001b[1;33m=\u001b[0m \u001b[0mrow\u001b[0m\u001b[1;33m[\u001b[0m\u001b[0mhalf\u001b[0m\u001b[1;33m:\u001b[0m\u001b[1;33m]\u001b[0m\u001b[1;33m\u001b[0m\u001b[1;33m\u001b[0m\u001b[0m\n\u001b[1;32m---> 10\u001b[1;33m     \u001b[0mcos_sims\u001b[0m\u001b[1;33m.\u001b[0m\u001b[0mappend\u001b[0m\u001b[1;33m(\u001b[0m\u001b[0mmetric\u001b[0m\u001b[1;33m.\u001b[0m\u001b[0mcos_sim\u001b[0m\u001b[1;33m(\u001b[0m\u001b[0mfront\u001b[0m\u001b[1;33m,\u001b[0m \u001b[0mend\u001b[0m\u001b[1;33m)\u001b[0m\u001b[1;33m)\u001b[0m\u001b[1;33m\u001b[0m\u001b[1;33m\u001b[0m\u001b[0m\n\u001b[0m\u001b[0;32m     11\u001b[0m     \u001b[0mjaccard_sims\u001b[0m\u001b[1;33m.\u001b[0m\u001b[0mappend\u001b[0m\u001b[1;33m(\u001b[0m\u001b[0mmetric\u001b[0m\u001b[1;33m.\u001b[0m\u001b[0mjaccard_sim\u001b[0m\u001b[1;33m(\u001b[0m\u001b[0mfront\u001b[0m\u001b[1;33m,\u001b[0m \u001b[0mend\u001b[0m\u001b[1;33m)\u001b[0m\u001b[1;33m)\u001b[0m\u001b[1;33m\u001b[0m\u001b[1;33m\u001b[0m\u001b[0m\n\u001b[0;32m     12\u001b[0m \u001b[1;33m\u001b[0m\u001b[0m\n",
      "\u001b[1;32m~\\Desktop\\Crowdflower Search Results Relevance\\utility\\utility.py\u001b[0m in \u001b[0;36mcos_sim\u001b[1;34m(A, B)\u001b[0m\n\u001b[0;32m     86\u001b[0m \u001b[1;33m\u001b[0m\u001b[0m\n\u001b[0;32m     87\u001b[0m     \u001b[1;32mdef\u001b[0m \u001b[0mcos_sim\u001b[0m\u001b[1;33m(\u001b[0m\u001b[0mA\u001b[0m\u001b[1;33m,\u001b[0m \u001b[0mB\u001b[0m\u001b[1;33m)\u001b[0m\u001b[1;33m:\u001b[0m\u001b[1;33m\u001b[0m\u001b[1;33m\u001b[0m\u001b[0m\n\u001b[1;32m---> 88\u001b[1;33m         \u001b[0mnumerator\u001b[0m \u001b[1;33m=\u001b[0m \u001b[0mnp\u001b[0m\u001b[1;33m.\u001b[0m\u001b[0mdot\u001b[0m\u001b[1;33m(\u001b[0m\u001b[0mA\u001b[0m\u001b[1;33m,\u001b[0m \u001b[0mB\u001b[0m\u001b[1;33m)\u001b[0m\u001b[1;33m\u001b[0m\u001b[1;33m\u001b[0m\u001b[0m\n\u001b[0m\u001b[0;32m     89\u001b[0m         \u001b[0mdenominator\u001b[0m \u001b[1;33m=\u001b[0m \u001b[0mnp\u001b[0m\u001b[1;33m.\u001b[0m\u001b[0mlinalg\u001b[0m\u001b[1;33m.\u001b[0m\u001b[0mnorm\u001b[0m\u001b[1;33m(\u001b[0m\u001b[0mA\u001b[0m\u001b[1;33m)\u001b[0m\u001b[1;33m*\u001b[0m\u001b[0mnp\u001b[0m\u001b[1;33m.\u001b[0m\u001b[0mlinalg\u001b[0m\u001b[1;33m.\u001b[0m\u001b[0mnorm\u001b[0m\u001b[1;33m(\u001b[0m\u001b[0mB\u001b[0m\u001b[1;33m)\u001b[0m\u001b[1;33m\u001b[0m\u001b[1;33m\u001b[0m\u001b[0m\n\u001b[0;32m     90\u001b[0m         \u001b[1;32mif\u001b[0m \u001b[0mdenominator\u001b[0m \u001b[1;33m==\u001b[0m \u001b[1;36m0\u001b[0m\u001b[1;33m:\u001b[0m\u001b[1;33m\u001b[0m\u001b[1;33m\u001b[0m\u001b[0m\n",
      "\u001b[1;32m<__array_function__ internals>\u001b[0m in \u001b[0;36mdot\u001b[1;34m(*args, **kwargs)\u001b[0m\n",
      "\u001b[1;31mValueError\u001b[0m: shapes (10316,) and (10272,) not aligned: 10316 (dim 0) != 10272 (dim 0)"
     ]
    }
   ],
   "source": [
    "# LSA 이후의 유사도 계산\n",
    "# TF-IDF로 구한 유사도 보다 높은값이지만 증가비율은 비슷함\n",
    "tfidf_hat = np.dot(X_svd_train, svd.components_)\n",
    "cos_sims = []\n",
    "jaccard_sims = []\n",
    "half = 10316\n",
    "for row in tfidf_hat:\n",
    "    front = row[:half]\n",
    "    end = row[half:]\n",
    "    cos_sims.append(metric.cos_sim(front, end))\n",
    "    jaccard_sims.append(metric.jaccard_sim(front, end))\n",
    "    \n",
    "simsim = sparse.csr_matrix(np.matrix([x for x in zip(cos_sims, jaccard_sims)]))\n",
    "\n",
    "for i in range(1, 5):\n",
    "    sims = simsim.toarray()[np.where(y == i)].sum(axis=0)/len(np.where(y == i)[0])\n",
    "    print(\"ratings %d \\ncos_sim mean : %f\\t jaccard_sim mean: %f\\n\" % (i, sims[0], sims[1]))"
   ]
  },
  {
   "cell_type": "code",
   "execution_count": null,
   "metadata": {},
   "outputs": [],
   "source": [
    "# Truncated SVD와 유사도 hstack\n",
    "X_stacked_train = hstack([X_svd_train, X_sim_train])\n",
    "X_stacked_dev = hstack([X_svd_dev, X_sim_dev])\n",
    "X_stacked_test = hstack([X_svd_test, X_sim_test])"
   ]
  },
  {
   "cell_type": "code",
   "execution_count": null,
   "metadata": {},
   "outputs": [],
   "source": [
    "# StandardScaler\n",
    "# with_mean=False 행렬이 희소하고 [0,1]이므로 mean shift사용 X\n",
    "scl = StandardScaler(with_mean=False)\n",
    "X_scaled_train = scl.fit_transform(X_stacked_train)\n",
    "X_scaled_dev = scl.transform(X_stacked_dev)\n",
    "X_scaled_test = scl.transform(X_stacked_test)"
   ]
  },
  {
   "cell_type": "markdown",
   "metadata": {},
   "source": [
    "### classification(LogisticRegression)"
   ]
  },
  {
   "cell_type": "code",
   "execution_count": null,
   "metadata": {
    "scrolled": true
   },
   "outputs": [],
   "source": [
    "lr = LogisticRegression(max_iter=500)\n",
    "\n",
    "cv = StratifiedKFold(n_splits=5, shuffle=True)\n",
    "kappa_scores = cross_val_score(lr, X_scaled_train, y, \\\n",
    "                               scoring=make_scorer(metric.quadratic_weighted_kappa, greater_is_better = True), cv=cv)\n",
    "print(\"kappa score 평균 : %0.2d, 편차 : %0.2d\" % (np.mean(kappa_scores), np.std(kappa_scores)))"
   ]
  },
  {
   "cell_type": "markdown",
   "metadata": {},
   "source": [
    "### classification(SVM)"
   ]
  },
  {
   "cell_type": "code",
   "execution_count": null,
   "metadata": {},
   "outputs": [],
   "source": [
    "# C=100(패널티) 문서당 유사도가 크기때문에(쿼리의 중복) 100으로 잡고 시작\n",
    "svm = SVC(C = 100, gamma='auto', probability=True)\n",
    "\n",
    "kappa_scores = cross_val_score(svm, X_scaled_train, y, \\\n",
    "                               scoring=make_scorer(metric.quadratic_weighted_kappa, greater_is_better = True), cv=cv)\n",
    "print(\"kappa score 평균 : %0.2d, 편차 : %0.2d\" % (np.mean(kappa_scores), np.std(kappa_scores)))"
   ]
  },
  {
   "cell_type": "markdown",
   "metadata": {},
   "source": [
    "## 모델링 결과 해석"
   ]
  },
  {
   "cell_type": "code",
   "execution_count": null,
   "metadata": {
    "scrolled": false
   },
   "outputs": [],
   "source": [
    "svm_result = svm.fit(X_scaled_train, y)\n",
    "svm_pred_dev = svm_result.predict(X_scaled_dev)\n",
    "\n",
    "print(\"kappa\\ntrain : %f\\tdev : %f\"% (metric.quadratic_weighted_kappa(y, svm_pred_train), \\\n",
    "                                      metric.quadratic_weighted_kappa(y_dev, svm_pred_dev)))\n",
    "\n",
    "print(\"rmse\\ntrain : %f\\tdev : %f\"% (mean_squared_error(y, svm_pred_train)**0.5, \\\n",
    "                                     mean_squared_error(y_dev, svm_pred_dev)**0.5))\n",
    "\n",
    "print('\\nconfusion_matrix : %d개중 %d개를 틀림\\n'%(len(y_dev), len(np.where(svm_pred_dev!=y_dev)[0])), \\\n",
    "      metrics.confusion_matrix(y_dev, svm_pred_dev))\n",
    "\n",
    "print('\\nclassification_report :\\n', classification_report(y_dev, svm_pred_dev))\n",
    "\n",
    "plot_multiclass_roc_prc(svm, X_scaled_dev, y_dev)"
   ]
  },
  {
   "cell_type": "markdown",
   "metadata": {},
   "source": [
    "## 개선된 모델"
   ]
  },
  {
   "cell_type": "code",
   "execution_count": 28,
   "metadata": {},
   "outputs": [
    {
     "name": "stdout",
     "output_type": "stream",
     "text": [
      "kappa\n",
      "train : 0.966579\tdev : 0.615538\n",
      "rmse\n",
      "train : 0.288649\tdev : 0.857459\n",
      "\n",
      "confusion_matrix : 1016개중 379개를 틀림\n",
      " [[ 47  20   3   7]\n",
      " [ 20  55  36  37]\n",
      " [  6  24  62  82]\n",
      " [  6  42  96 473]]\n",
      "\n",
      "classification_report :\n",
      "               precision    recall  f1-score   support\n",
      "\n",
      "           1       0.59      0.61      0.60        77\n",
      "           2       0.39      0.37      0.38       148\n",
      "           3       0.31      0.36      0.33       174\n",
      "           4       0.79      0.77      0.78       617\n",
      "\n",
      "    accuracy                           0.63      1016\n",
      "   macro avg       0.52      0.53      0.52      1016\n",
      "weighted avg       0.64      0.63      0.63      1016\n",
      "\n"
     ]
    },
    {
     "data": {
      "image/png": "[encoded data removed]",
      "text/plain": [
       "<Figure size 1008x504 with 2 Axes>"
      ]
     },
     "metadata": {
      "needs_background": "light"
     },
     "output_type": "display_data"
    }
   ],
   "source": [
    "smt = SMOTETomek(tomek=TomekLinks(sampling_strategy='majority'))\n",
    "X_samp, y_samp = smt.fit_sample(X_scaled_train, y)\n",
    "\n",
    "svm = SVC(C=100, gamma='auto', class_weight='balanced'  probability=True)\n",
    "svmresult = svm.fit(X_samp, y_samp)\n",
    "\n",
    "svmpredtrain = svmresult.predict(X_samp)\n",
    "svmpreddev = svmresult.predict(X_scaled_dev)\n",
    "\n",
    "print(\"kappa\\ntrain : %f\\tdev : %f\"% (metric.quadratic_weighted_kappa(y_samp, svmpredtrain), \\\n",
    "                                      metric.quadratic_weighted_kappa(y_dev, svmpreddev)))\n",
    "\n",
    "print(\"rmse\\ntrain : %f\\tdev : %f\"% (mean_squared_error(y_samp, svmpredtrain)**0.5, \\\n",
    "                                     mean_squared_error(y_dev, svmpreddev)**0.5))\n",
    "\n",
    "print('\\nconfusion_matrix : %d개중 %d개를 틀림\\n'%(len(y_dev), len(np.where(svmpreddev!=y_dev)[0])), \\\n",
    "      metrics.confusion_matrix(y_dev, svmpreddev))\n",
    "print('\\nclassification_report :\\n', classification_report(y_dev, svmpreddev))\n",
    "\n",
    "plot_multiclass_roc_prc(svmresult, X_scaled_dev, y_dev)"
   ]
  },
  {
   "cell_type": "markdown",
   "metadata": {},
   "source": [
    "#### GridSearchCV(SVM)"
   ]
  },
  {
   "cell_type": "code",
   "execution_count": 2,
   "metadata": {},
   "outputs": [],
   "source": [
    "# df_train = pd.read_csv('./data/preprocessed_train.csv')\n",
    "# Y = df_train['median_relevance']\n",
    "# test = pd.read_csv('./data/preprocessed_test.csv')\n",
    "# idx = test.id.values.astype(int)\n",
    "\n",
    "# # n_components, C, gamma\n",
    "# parmas = [[230], [1000], ['auto']]\n",
    "# parmas = list(product(*parmas))\n",
    "\n",
    "# # results = gridsearchcv(df_train, Y, parmas)"
   ]
  },
  {
   "cell_type": "markdown",
   "metadata": {},
   "source": [
    "### 최종 모델"
   ]
  },
  {
   "cell_type": "code",
   "execution_count": null,
   "metadata": {},
   "outputs": [],
   "source": [
    "train = pd.read_csv('./data/preprocessed_train.csv')\n",
    "y = train['median_relevance']\n",
    "test = pd.read_csv('./data/preprocessed_test.csv')\n",
    "idx = test.id.values.astype(int)"
   ]
  },
  {
   "cell_type": "code",
   "execution_count": null,
   "metadata": {},
   "outputs": [],
   "source": [
    "param_grid = {'n_components' : 230,\\\n",
    "              'C' : 100,\\\n",
    "              'gamma' : 'auto'}"
   ]
  },
  {
   "cell_type": "code",
   "execution_count": null,
   "metadata": {},
   "outputs": [],
   "source": [
    "train_query = list(train.apply(lambda x:'%s' % x['query_preprocessed'], axis=1))\n",
    "train_title = list(train.apply(lambda x:'%s' % x['product_title_preprocessed'], axis=1))\n",
    "\n",
    "test_query = list(test.apply(lambda x:'%s' % x['query_preprocessed'], axis=1))\n",
    "test_title = list(test.apply(lambda x:'%s' % x['product_title_preprocessed'], axis=1))\n",
    "\n",
    "stop_words = text.ENGLISH_STOP_WORDS.union(['http','www','img','border','color','style','padding','table',\\\n",
    "                                            'font', '', 'thi','inch','ha','width','height',\\\n",
    "                                            '0','1','2','3','4','5','6','7','8','9'])\n",
    "\n",
    "stop_words = text.ENGLISH_STOP_WORDS.union(set(stopwords.words('english')))\n",
    "tfv = text.TfidfVectorizer(min_df=3,  max_features=None, strip_accents='unicode', analyzer='word',\\\n",
    "                           token_pattern=r'\\w{1,}', ngram_range=(1, 3), use_idf=True, smooth_idf=True, \\\n",
    "                           sublinear_tf=True, stop_words = stop_words).fit(train_query + train_title)\n",
    "\n",
    "X_train = hstack([tfv.transform(train_query), tfv.transform(train_title)])\n",
    "X_test = hstack([tfv.transform(test_query), tfv.transform(test_title)])\n",
    "\n",
    "sim = similarlity_stack()\n",
    "svd = TruncatedSVD(n_components = param_grid['n_components'])\n",
    "scl = StandardScaler(with_mean=False)\n",
    "smote = SMOTE(sampling_strategy='auto')\n",
    "svm = SVC(C=param_grid['C'], gamma=param_grid['gamma'], probability=True)\n",
    "\n",
    "X_sim_train = sim.fit_transform(X_train, y)\n",
    "X_svd_train = svd.fit_transform(X_train)\n",
    "X_stacked_train = hstack([X_svd_train, X_sim_train])\n",
    "X_scaled_train = scl.fit_transform(X_stacked_train)\n",
    "\n",
    "X_sim_test = sim.transform(X_test)       \n",
    "X_svd_test = svd.transform(X_test)\n",
    "X_stacked_test = hstack([X_svd_test, X_sim_test])\n",
    "X_scaled_test = scl.transform(X_stacked_test)\n",
    "\n",
    "X_samp, y_samp = smote.fit_sample(X_scaled_train, y)\n",
    "\n",
    "svm_result = svm.fit(X_samp, y_samp)\n",
    "svm_pred_test = svm_result.predict(X_scaled_test)\n",
    "            \n",
    "# submission = pd.DataFrame({\"id\": idx, \"prediction\": svm_pred_test})\n",
    "# submission.to_csv(\"./submission/submission.csv\", index=False)\n",
    "# submission.head()"
   ]
  },
  {
   "cell_type": "code",
   "execution_count": null,
   "metadata": {},
   "outputs": [],
   "source": []
  },
  {
   "cell_type": "code",
   "execution_count": null,
   "metadata": {},
   "outputs": [],
   "source": []
  },
  {
   "cell_type": "code",
   "execution_count": null,
   "metadata": {},
   "outputs": [],
   "source": []
  },
  {
   "cell_type": "code",
   "execution_count": null,
   "metadata": {},
   "outputs": [],
   "source": [
    "sim = similarlity_stack()\n",
    "svd = TruncatedSVD()\n",
    "scl = StandardScaler(with_mean=False)\n",
    "sampling = OneSidedSelection()\n",
    "svm =  SVC(gamma='auto', class_weight='balanced', probability=True)\n",
    "\n",
    "clf = Pipeline([('FeatureUnion', FeatureUnion( [('svd', svd), ('sim', sim)] )),\\\n",
    "                ('scl', scl),\\\n",
    "                ('sampling', sampling),\\\n",
    "                ('svm', svm)])\n",
    "\n",
    "\n",
    "svd__n_components = [230]\n",
    "sampling__sampling_strategy = ['majority']\n",
    "svm__C = [100]\n",
    "\n",
    "param_grid = {'FeatureUnion__svd__n_components' : svd__n_components,\\\n",
    "              'sampling__sampling_strategy' : sampling__sampling_strategy,\\\n",
    "              'svm__C': svm__C}\n",
    "\n",
    "scoring = {'kappa': make_scorer(metric.quadratic_weighted_kappa, greater_is_better = True), \\\n",
    "           'pr_auc': make_scorer(metric.pr_auc_score, greater_is_better = True, needs_proba=True, average='micro')}\n",
    "\n",
    "import os\n",
    "cv = os.cpu_count()\n",
    "model = GridSearchCV(estimator=clf, param_grid=param_grid, scoring=scoring, \\\n",
    "                     refit='kappa', verbose=10, n_jobs=-1, iid=True, cv=cv)\n",
    "\n",
    "model.fit(X_train, y)\n",
    "results = pd.DataFrame(model.cv_results_)\n",
    "# results.to_csv(\"./gridsearch/results.csv\", index=False)"
   ]
  },
  {
   "cell_type": "code",
   "execution_count": 161,
   "metadata": {},
   "outputs": [
    {
     "name": "stdout",
     "output_type": "stream",
     "text": [
      "Best score: 0.487\n",
      "Best parameters :\n",
      "\tFeatureUnion__svd__n_components: 300\n",
      "\tsampling__sampling_strategy: 'not minority'\n"
     ]
    }
   ],
   "source": [
    "# best 점수, parameters 확인\n",
    "print(\"Best score: %0.3f\" % model.best_score_)\n",
    "print(\"Best parameters :\")\n",
    "best_parameters = model.best_estimator_.get_params()\n",
    "for param_name in sorted(param_grid.keys()):\n",
    "    print(\"\\t%s: %r\" % (param_name, best_parameters[param_name]))"
   ]
  },
  {
   "cell_type": "code",
   "execution_count": null,
   "metadata": {},
   "outputs": [],
   "source": [
    "best_model = model.best_estimator_\n",
    "best_model.fit(X_train, y)\n",
    "dev_preds = best_model.predict(X_dev)\n",
    "model_preds = best_model.predict(X_test)"
   ]
  },
  {
   "cell_type": "code",
   "execution_count": null,
   "metadata": {},
   "outputs": [],
   "source": [
    "print(metrics.confusion_matrix(y_dev, dev_preds))\n",
    "print(classification_report(y_dev, dev_preds))\n",
    "plot_multiclass_roc_prc(best_model, X_dev, y_dev)"
   ]
  },
  {
   "cell_type": "code",
   "execution_count": 134,
   "metadata": {},
   "outputs": [
    {
     "data": {
      "text/html": [
       "<div>\n",
       "<style scoped>\n",
       "    .dataframe tbody tr th:only-of-type {\n",
       "        vertical-align: middle;\n",
       "    }\n",
       "\n",
       "    .dataframe tbody tr th {\n",
       "        vertical-align: top;\n",
       "    }\n",
       "\n",
       "    .dataframe thead th {\n",
       "        text-align: right;\n",
       "    }\n",
       "</style>\n",
       "<table border=\"1\" class=\"dataframe\">\n",
       "  <thead>\n",
       "    <tr style=\"text-align: right;\">\n",
       "      <th></th>\n",
       "      <th>id</th>\n",
       "      <th>prediction</th>\n",
       "    </tr>\n",
       "  </thead>\n",
       "  <tbody>\n",
       "    <tr>\n",
       "      <th>0</th>\n",
       "      <td>3</td>\n",
       "      <td>4</td>\n",
       "    </tr>\n",
       "    <tr>\n",
       "      <th>1</th>\n",
       "      <td>6</td>\n",
       "      <td>3</td>\n",
       "    </tr>\n",
       "    <tr>\n",
       "      <th>2</th>\n",
       "      <td>9</td>\n",
       "      <td>3</td>\n",
       "    </tr>\n",
       "    <tr>\n",
       "      <th>3</th>\n",
       "      <td>11</td>\n",
       "      <td>4</td>\n",
       "    </tr>\n",
       "    <tr>\n",
       "      <th>4</th>\n",
       "      <td>12</td>\n",
       "      <td>4</td>\n",
       "    </tr>\n",
       "  </tbody>\n",
       "</table>\n",
       "</div>"
      ],
      "text/plain": [
       "   id  prediction\n",
       "0   3           4\n",
       "1   6           3\n",
       "2   9           3\n",
       "3  11           4\n",
       "4  12           4"
      ]
     },
     "execution_count": 134,
     "metadata": {},
     "output_type": "execute_result"
    }
   ],
   "source": [
    "# # save submission\n",
    "# grid_svm_sim_submission = pd.DataFrame({\"id\": idx, \"prediction\": model_preds})\n",
    "# grid_svm_sim_submission.to_csv(\"./submission/tfidf_svm_sim_grid.csv\", index=False)\n",
    "# grid_svm_sim_submission.head()"
   ]
  },
  {
   "cell_type": "code",
   "execution_count": null,
   "metadata": {},
   "outputs": [],
   "source": []
  },
  {
   "cell_type": "code",
   "execution_count": null,
   "metadata": {},
   "outputs": [],
   "source": []
  },
  {
   "cell_type": "code",
   "execution_count": null,
   "metadata": {},
   "outputs": [],
   "source": []
  },
  {
   "cell_type": "code",
   "execution_count": null,
   "metadata": {},
   "outputs": [],
   "source": []
  }
 ],
 "metadata": {
  "kernelspec": {
   "display_name": "Python 3",
   "language": "python",
   "name": "python3"
  },
  "language_info": {
   "codemirror_mode": {
    "name": "ipython",
    "version": 3
   },
   "file_extension": ".py",
   "mimetype": "text/x-python",
   "name": "python",
   "nbconvert_exporter": "python",
   "pygments_lexer": "ipython3",
   "version": "3.7.6"
  }
 },
 "nbformat": 4,
 "nbformat_minor": 4
}
